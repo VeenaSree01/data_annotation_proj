{
 "cells": [
  {
   "cell_type": "code",
   "execution_count": 8,
   "id": "17b793cb-0d48-4f7f-911a-9029c865bff9",
   "metadata": {},
   "outputs": [],
   "source": [
    "import cv2\n",
    "import xml.etree.ElementTree as ET\n",
    "import os\n",
    "\n",
    "def draw_annotations(image_path, xml_path):\n",
    "    # Read image\n",
    "    image = cv2.imread(image_path)\n",
    "    \n",
    "    # Parse XML annotation file\n",
    "    tree = ET.parse(xml_path)\n",
    "    root = tree.getroot()\n",
    "    \n",
    "    # Get image size\n",
    "    width = int(root.find('size/width').text)\n",
    "    height = int(root.find('size/height').text)\n",
    "\n",
    "    # Iterate through all objects in the XML\n",
    "    for obj in root.findall('object'):\n",
    "        name = obj.find('name').text\n",
    "        bndbox = obj.find('bndbox')\n",
    "        xmin = int(bndbox.find('xmin').text)\n",
    "        ymin = int(bndbox.find('ymin').text)\n",
    "        xmax = int(bndbox.find('xmax').text)\n",
    "        ymax = int(bndbox.find('ymax').text)\n",
    "\n",
    "        # Draw bounding box on the image\n",
    "        cv2.rectangle(image, (xmin, ymin), (xmax, ymax), (0, 255, 0), 2)\n",
    "        cv2.putText(image, name, (xmin, ymin-10), cv2.FONT_HERSHEY_SIMPLEX, 0.9, (36,255,12), 2)\n",
    "\n",
    "    # Display the image with annotations\n",
    "    cv2.imshow(\"Image with Annotations\", image)\n",
    "    cv2.waitKey(0)\n",
    "    cv2.destroyAllWindows()\n",
    "\n",
    "# Path to image and annotation directory\n",
    "image_dir = \"Documents/GitHub/data_annotation_proj/Alan Rickman\"\n",
    "annotation_dir = \"Documents/GitHub/data_annotation_proj/annotation\"\n",
    "\n",
    "# Loop through images and corresponding XML files\n",
    "for image_file in os.listdir(image_dir):\n",
    "    if image_file.endswith(\".jpg\"):  # or .png depending on your images\n",
    "        image_path = os.path.join(image_dir, image_file)\n",
    "        xml_path = os.path.join(annotation_dir, image_file.replace(\".jpg\", \".xml\"))\n",
    "\n",
    "        draw_annotations(image_path, xml_path)\n"
   ]
  }
 ],
 "metadata": {
  "kernelspec": {
   "display_name": "Python 3 (ipykernel)",
   "language": "python",
   "name": "python3"
  },
  "language_info": {
   "codemirror_mode": {
    "name": "ipython",
    "version": 3
   },
   "file_extension": ".py",
   "mimetype": "text/x-python",
   "name": "python",
   "nbconvert_exporter": "python",
   "pygments_lexer": "ipython3",
   "version": "3.10.12"
  }
 },
 "nbformat": 4,
 "nbformat_minor": 5
}
